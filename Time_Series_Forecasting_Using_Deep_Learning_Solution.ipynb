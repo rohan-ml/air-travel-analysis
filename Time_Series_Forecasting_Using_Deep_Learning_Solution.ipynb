{
  "nbformat": 4,
  "nbformat_minor": 0,
  "metadata": {
    "anaconda-cloud": {},
    "kernelspec": {
      "display_name": "Python [Root]",
      "language": "python",
      "name": "Python [Root]"
    },
    "language_info": {
      "codemirror_mode": {
        "name": "ipython",
        "version": 2
      },
      "file_extension": ".py",
      "mimetype": "text/x-python",
      "name": "python",
      "nbconvert_exporter": "python",
      "pygments_lexer": "ipython2",
      "version": "2.7.12"
    },
    "colab": {
      "name": "Time-Series-Forecasting-Using-Deep-Learning-Solution.ipynb",
      "provenance": [],
      "toc_visible": true,
      "include_colab_link": true
    }
  },
  "cells": [
    {
      "cell_type": "markdown",
      "metadata": {
        "id": "view-in-github",
        "colab_type": "text"
      },
      "source": [
        "<a href=\"https://colab.research.google.com/github/rohan-ml/air-travel-analysis/blob/master/Time_Series_Forecasting_Using_Deep_Learning_Solution.ipynb\" target=\"_parent\"><img src=\"https://colab.research.google.com/assets/colab-badge.svg\" alt=\"Open In Colab\"/></a>"
      ]
    },
    {
      "cell_type": "code",
      "metadata": {
        "id": "eARtNEjnZr9T",
        "colab_type": "code",
        "colab": {
          "base_uri": "https://localhost:8080/",
          "height": 265
        },
        "outputId": "b8ef632f-7eaf-4912-c61f-3891668e1f85"
      },
      "source": [
        "import pandas\n",
        "import matplotlib.pyplot as plt\n",
        "%matplotlib inline\n",
        "dataset = pandas.read_csv('/content/international-airline-passengers.csv',usecols=[1],engine='python',skipfooter=3)\n",
        "plt.plot(dataset)\n",
        "plt.show()"
      ],
      "execution_count": 252,
      "outputs": [
        {
          "output_type": "display_data",
          "data": {
            "image/png": "[encoded data removed]",
            "text/plain": [
              "<Figure size 432x288 with 1 Axes>"
            ]
          },
          "metadata": {
            "tags": []
          }
        }
      ]
    },
    {
      "cell_type": "code",
      "metadata": {
        "id": "eITrUHAtbJGj",
        "colab_type": "code",
        "colab": {
          "base_uri": "https://localhost:8080/",
          "height": 419
        },
        "outputId": "f465def6-2716-4284-8803-89fe026e441b"
      },
      "source": [
        "dataset"
      ],
      "execution_count": 253,
      "outputs": [
        {
          "output_type": "execute_result",
          "data": {
            "text/html": [
              "<div>\n",
              "<style scoped>\n",
              "    .dataframe tbody tr th:only-of-type {\n",
              "        vertical-align: middle;\n",
              "    }\n",
              "\n",
              "    .dataframe tbody tr th {\n",
              "        vertical-align: top;\n",
              "    }\n",
              "\n",
              "    .dataframe thead th {\n",
              "        text-align: right;\n",
              "    }\n",
              "</style>\n",
              "<table border=\"1\" class=\"dataframe\">\n",
              "  <thead>\n",
              "    <tr style=\"text-align: right;\">\n",
              "      <th></th>\n",
              "      <th>International airline passengers: monthly totals in thousands. Jan 49 ? Dec 60</th>\n",
              "    </tr>\n",
              "  </thead>\n",
              "  <tbody>\n",
              "    <tr>\n",
              "      <th>0</th>\n",
              "      <td>112</td>\n",
              "    </tr>\n",
              "    <tr>\n",
              "      <th>1</th>\n",
              "      <td>118</td>\n",
              "    </tr>\n",
              "    <tr>\n",
              "      <th>2</th>\n",
              "      <td>132</td>\n",
              "    </tr>\n",
              "    <tr>\n",
              "      <th>3</th>\n",
              "      <td>129</td>\n",
              "    </tr>\n",
              "    <tr>\n",
              "      <th>4</th>\n",
              "      <td>121</td>\n",
              "    </tr>\n",
              "    <tr>\n",
              "      <th>...</th>\n",
              "      <td>...</td>\n",
              "    </tr>\n",
              "    <tr>\n",
              "      <th>139</th>\n",
              "      <td>606</td>\n",
              "    </tr>\n",
              "    <tr>\n",
              "      <th>140</th>\n",
              "      <td>508</td>\n",
              "    </tr>\n",
              "    <tr>\n",
              "      <th>141</th>\n",
              "      <td>461</td>\n",
              "    </tr>\n",
              "    <tr>\n",
              "      <th>142</th>\n",
              "      <td>390</td>\n",
              "    </tr>\n",
              "    <tr>\n",
              "      <th>143</th>\n",
              "      <td>432</td>\n",
              "    </tr>\n",
              "  </tbody>\n",
              "</table>\n",
              "<p>144 rows × 1 columns</p>\n",
              "</div>"
            ],
            "text/plain": [
              "     International airline passengers: monthly totals in thousands. Jan 49 ? Dec 60\n",
              "0                                                  112                             \n",
              "1                                                  118                             \n",
              "2                                                  132                             \n",
              "3                                                  129                             \n",
              "4                                                  121                             \n",
              "..                                                 ...                             \n",
              "139                                                606                             \n",
              "140                                                508                             \n",
              "141                                                461                             \n",
              "142                                                390                             \n",
              "143                                                432                             \n",
              "\n",
              "[144 rows x 1 columns]"
            ]
          },
          "metadata": {
            "tags": []
          },
          "execution_count": 253
        }
      ]
    },
    {
      "cell_type": "markdown",
      "metadata": {
        "id": "fCpJ8VZUa003",
        "colab_type": "text"
      },
      "source": [
        "# New Section"
      ]
    },
    {
      "cell_type": "code",
      "metadata": {
        "id": "A5zt6-9NZr9i",
        "colab_type": "code",
        "colab": {}
      },
      "source": [
        "import numpy\n",
        "import pandas\n",
        "import math\n",
        "from keras.models import Sequential\n",
        "from keras.layers import Dense\n",
        "from keras.layers import LSTM"
      ],
      "execution_count": 0,
      "outputs": []
    },
    {
      "cell_type": "code",
      "metadata": {
        "id": "o_McjGEGZr9l",
        "colab_type": "code",
        "colab": {}
      },
      "source": [
        "import sklearn"
      ],
      "execution_count": 0,
      "outputs": []
    },
    {
      "cell_type": "code",
      "metadata": {
        "id": "Mb4b6JiKZr9r",
        "colab_type": "code",
        "colab": {}
      },
      "source": [
        "from sklearn.preprocessing import MinMaxScaler"
      ],
      "execution_count": 0,
      "outputs": []
    },
    {
      "cell_type": "code",
      "metadata": {
        "id": "2JpeMDQ0Zr9w",
        "colab_type": "code",
        "colab": {}
      },
      "source": [
        "from sklearn.metrics import mean_squared_error"
      ],
      "execution_count": 0,
      "outputs": []
    },
    {
      "cell_type": "code",
      "metadata": {
        "id": "7briJRbKZr92",
        "colab_type": "code",
        "colab": {}
      },
      "source": [
        "# for reproducability of the results let's fix the seed function\n",
        "numpy.random.seed(1234)"
      ],
      "execution_count": 0,
      "outputs": []
    },
    {
      "cell_type": "code",
      "metadata": {
        "id": "zjZUq0UwZr97",
        "colab_type": "code",
        "colab": {
          "base_uri": "https://localhost:8080/",
          "height": 204
        },
        "outputId": "6ba954ad-ef35-472d-f37f-74455e4c9c19"
      },
      "source": [
        "dataset.head()"
      ],
      "execution_count": 259,
      "outputs": [
        {
          "output_type": "execute_result",
          "data": {
            "text/html": [
              "<div>\n",
              "<style scoped>\n",
              "    .dataframe tbody tr th:only-of-type {\n",
              "        vertical-align: middle;\n",
              "    }\n",
              "\n",
              "    .dataframe tbody tr th {\n",
              "        vertical-align: top;\n",
              "    }\n",
              "\n",
              "    .dataframe thead th {\n",
              "        text-align: right;\n",
              "    }\n",
              "</style>\n",
              "<table border=\"1\" class=\"dataframe\">\n",
              "  <thead>\n",
              "    <tr style=\"text-align: right;\">\n",
              "      <th></th>\n",
              "      <th>International airline passengers: monthly totals in thousands. Jan 49 ? Dec 60</th>\n",
              "    </tr>\n",
              "  </thead>\n",
              "  <tbody>\n",
              "    <tr>\n",
              "      <th>0</th>\n",
              "      <td>112</td>\n",
              "    </tr>\n",
              "    <tr>\n",
              "      <th>1</th>\n",
              "      <td>118</td>\n",
              "    </tr>\n",
              "    <tr>\n",
              "      <th>2</th>\n",
              "      <td>132</td>\n",
              "    </tr>\n",
              "    <tr>\n",
              "      <th>3</th>\n",
              "      <td>129</td>\n",
              "    </tr>\n",
              "    <tr>\n",
              "      <th>4</th>\n",
              "      <td>121</td>\n",
              "    </tr>\n",
              "  </tbody>\n",
              "</table>\n",
              "</div>"
            ],
            "text/plain": [
              "   International airline passengers: monthly totals in thousands. Jan 49 ? Dec 60\n",
              "0                                                112                             \n",
              "1                                                118                             \n",
              "2                                                132                             \n",
              "3                                                129                             \n",
              "4                                                121                             "
            ]
          },
          "metadata": {
            "tags": []
          },
          "execution_count": 259
        }
      ]
    },
    {
      "cell_type": "code",
      "metadata": {
        "id": "dTNChqlDZr-C",
        "colab_type": "code",
        "colab": {}
      },
      "source": [
        "dataset = dataset.values\n",
        "dataset = dataset.astype('float32')"
      ],
      "execution_count": 0,
      "outputs": []
    },
    {
      "cell_type": "code",
      "metadata": {
        "id": "f0qypiSvZr-G",
        "colab_type": "code",
        "colab": {}
      },
      "source": [
        "# normaliza the dataset\n",
        "scaler = MinMaxScaler(feature_range=(0,1))\n",
        "dataset = scaler.fit_transform(dataset)"
      ],
      "execution_count": 0,
      "outputs": []
    },
    {
      "cell_type": "code",
      "metadata": {
        "id": "wsst5f6KZr-L",
        "colab_type": "code",
        "colab": {
          "base_uri": "https://localhost:8080/",
          "height": 1000
        },
        "outputId": "0bc349c9-2af7-4d16-d1c3-a2ae1c089d70"
      },
      "source": [
        "dataset"
      ],
      "execution_count": 262,
      "outputs": [
        {
          "output_type": "execute_result",
          "data": {
            "text/plain": [
              "array([[0.01544401],\n",
              "       [0.02702703],\n",
              "       [0.05405405],\n",
              "       [0.04826255],\n",
              "       [0.03281853],\n",
              "       [0.05984557],\n",
              "       [0.08494207],\n",
              "       [0.08494207],\n",
              "       [0.06177607],\n",
              "       [0.02895753],\n",
              "       [0.        ],\n",
              "       [0.02702703],\n",
              "       [0.02123553],\n",
              "       [0.04247104],\n",
              "       [0.07142857],\n",
              "       [0.05984557],\n",
              "       [0.04054055],\n",
              "       [0.08687258],\n",
              "       [0.12741312],\n",
              "       [0.12741312],\n",
              "       [0.10424709],\n",
              "       [0.05598456],\n",
              "       [0.01930502],\n",
              "       [0.06949806],\n",
              "       [0.07915059],\n",
              "       [0.08880308],\n",
              "       [0.14285713],\n",
              "       [0.11389962],\n",
              "       [0.13127413],\n",
              "       [0.14285713],\n",
              "       [0.18339768],\n",
              "       [0.18339768],\n",
              "       [0.15444016],\n",
              "       [0.11196911],\n",
              "       [0.08108109],\n",
              "       [0.1196911 ],\n",
              "       [0.12934363],\n",
              "       [0.14671814],\n",
              "       [0.17181468],\n",
              "       [0.14864865],\n",
              "       [0.15250966],\n",
              "       [0.22007722],\n",
              "       [0.24324325],\n",
              "       [0.26640925],\n",
              "       [0.2027027 ],\n",
              "       [0.16795367],\n",
              "       [0.13127413],\n",
              "       [0.17374519],\n",
              "       [0.17760617],\n",
              "       [0.17760617],\n",
              "       [0.25482625],\n",
              "       [0.25289574],\n",
              "       [0.24131274],\n",
              "       [0.26833975],\n",
              "       [0.3088803 ],\n",
              "       [0.32432434],\n",
              "       [0.25675675],\n",
              "       [0.20656371],\n",
              "       [0.14671814],\n",
              "       [0.18725869],\n",
              "       [0.19305018],\n",
              "       [0.16216215],\n",
              "       [0.25289574],\n",
              "       [0.23745173],\n",
              "       [0.25096524],\n",
              "       [0.3088803 ],\n",
              "       [0.38223937],\n",
              "       [0.36486486],\n",
              "       [0.2992278 ],\n",
              "       [0.24131274],\n",
              "       [0.1911197 ],\n",
              "       [0.24131274],\n",
              "       [0.26640925],\n",
              "       [0.24903473],\n",
              "       [0.31467178],\n",
              "       [0.3185328 ],\n",
              "       [0.32046333],\n",
              "       [0.4073359 ],\n",
              "       [0.5019305 ],\n",
              "       [0.46911195],\n",
              "       [0.40154442],\n",
              "       [0.32818535],\n",
              "       [0.25675675],\n",
              "       [0.3359073 ],\n",
              "       [0.34749034],\n",
              "       [0.33397684],\n",
              "       [0.41119692],\n",
              "       [0.4034749 ],\n",
              "       [0.4131274 ],\n",
              "       [0.52123547],\n",
              "       [0.5965251 ],\n",
              "       [0.58108103],\n",
              "       [0.484556  ],\n",
              "       [0.3899614 ],\n",
              "       [0.3223938 ],\n",
              "       [0.3899614 ],\n",
              "       [0.4073359 ],\n",
              "       [0.3803089 ],\n",
              "       [0.48648646],\n",
              "       [0.47104248],\n",
              "       [0.484556  ],\n",
              "       [0.6138996 ],\n",
              "       [0.6969112 ],\n",
              "       [0.70077217],\n",
              "       [0.57915056],\n",
              "       [0.46911195],\n",
              "       [0.38803086],\n",
              "       [0.44787642],\n",
              "       [0.45559844],\n",
              "       [0.4131274 ],\n",
              "       [0.4980695 ],\n",
              "       [0.47104248],\n",
              "       [0.49999997],\n",
              "       [0.6389961 ],\n",
              "       [0.7471043 ],\n",
              "       [0.7741313 ],\n",
              "       [0.57915056],\n",
              "       [0.492278  ],\n",
              "       [0.3976834 ],\n",
              "       [0.44980696],\n",
              "       [0.49420848],\n",
              "       [0.45945945],\n",
              "       [0.5830116 ],\n",
              "       [0.5637065 ],\n",
              "       [0.61003864],\n",
              "       [0.71042466],\n",
              "       [0.8571429 ],\n",
              "       [0.8783784 ],\n",
              "       [0.69305015],\n",
              "       [0.5849421 ],\n",
              "       [0.4980695 ],\n",
              "       [0.58108103],\n",
              "       [0.6042471 ],\n",
              "       [0.554054  ],\n",
              "       [0.60810804],\n",
              "       [0.6891892 ],\n",
              "       [0.71042466],\n",
              "       [0.8320464 ],\n",
              "       [1.        ],\n",
              "       [0.96911204],\n",
              "       [0.7799227 ],\n",
              "       [0.6891892 ],\n",
              "       [0.55212355],\n",
              "       [0.6332046 ]], dtype=float32)"
            ]
          },
          "metadata": {
            "tags": []
          },
          "execution_count": 262
        }
      ]
    },
    {
      "cell_type": "code",
      "metadata": {
        "id": "rADel6UUZr-R",
        "colab_type": "code",
        "colab": {}
      },
      "source": [
        "# split the dataset into train and test \n",
        "train_size = int(len(dataset)*0.67)"
      ],
      "execution_count": 0,
      "outputs": []
    },
    {
      "cell_type": "code",
      "metadata": {
        "id": "rtePIwtlZr-V",
        "colab_type": "code",
        "colab": {
          "base_uri": "https://localhost:8080/",
          "height": 35
        },
        "outputId": "d7895a1a-d6dd-4f36-9180-c391b6c3d381"
      },
      "source": [
        "print(train_size)"
      ],
      "execution_count": 264,
      "outputs": [
        {
          "output_type": "stream",
          "text": [
            "96\n"
          ],
          "name": "stdout"
        }
      ]
    },
    {
      "cell_type": "code",
      "metadata": {
        "id": "8f1Tm1BrZr-Y",
        "colab_type": "code",
        "colab": {}
      },
      "source": [
        "test_size = len(dataset) - train_size"
      ],
      "execution_count": 0,
      "outputs": []
    },
    {
      "cell_type": "code",
      "metadata": {
        "id": "tuNqQxtXZr-c",
        "colab_type": "code",
        "colab": {
          "base_uri": "https://localhost:8080/",
          "height": 35
        },
        "outputId": "13c4ec60-dd47-485a-ca07-687020fe7490"
      },
      "source": [
        "print(test_size)"
      ],
      "execution_count": 266,
      "outputs": [
        {
          "output_type": "stream",
          "text": [
            "48\n"
          ],
          "name": "stdout"
        }
      ]
    },
    {
      "cell_type": "code",
      "metadata": {
        "id": "B6fiYj9_Zr-j",
        "colab_type": "code",
        "colab": {}
      },
      "source": [
        "train,test = dataset[0:train_size,:],dataset[train_size:len(dataset),:]"
      ],
      "execution_count": 0,
      "outputs": []
    },
    {
      "cell_type": "code",
      "metadata": {
        "id": "w6iKFx7sZr-o",
        "colab_type": "code",
        "colab": {
          "base_uri": "https://localhost:8080/",
          "height": 35
        },
        "outputId": "b629199e-5b28-4b3e-a393-0c301b1af621"
      },
      "source": [
        "print (len(train), len(test))"
      ],
      "execution_count": 268,
      "outputs": [
        {
          "output_type": "stream",
          "text": [
            "96 48\n"
          ],
          "name": "stdout"
        }
      ]
    },
    {
      "cell_type": "code",
      "metadata": {
        "id": "7bqeiasUZr-r",
        "colab_type": "code",
        "colab": {}
      },
      "source": [
        "# create dataset matrix\n",
        "def create_dataset(dataset, look_back=1):\n",
        "    dataX, dataY = [], []\n",
        "    for i in range(len(dataset)-look_back-1):\n",
        "        a = dataset[i:(i+look_back),0]\n",
        "        dataX.append(a)\n",
        "        dataY.append(dataset[i+look_back,0])\n",
        "    return numpy.array(dataX),numpy.array(dataY)"
      ],
      "execution_count": 0,
      "outputs": []
    },
    {
      "cell_type": "code",
      "metadata": {
        "id": "fs6sQmWHZr-u",
        "colab_type": "code",
        "colab": {}
      },
      "source": [
        "#reshape the dataset X =current time, and Yt+1 =future time period\n",
        "look_back =1\n",
        "trainX, trainY = create_dataset(train,look_back)\n",
        "testX, testY = create_dataset(test,look_back)"
      ],
      "execution_count": 0,
      "outputs": []
    },
    {
      "cell_type": "code",
      "metadata": {
        "id": "BK443WGUbbuR",
        "colab_type": "code",
        "colab": {
          "base_uri": "https://localhost:8080/",
          "height": 35
        },
        "outputId": "a8b13b46-5040-4367-d039-ee263525d059"
      },
      "source": [
        "trainX.shape"
      ],
      "execution_count": 271,
      "outputs": [
        {
          "output_type": "execute_result",
          "data": {
            "text/plain": [
              "(94, 1)"
            ]
          },
          "metadata": {
            "tags": []
          },
          "execution_count": 271
        }
      ]
    },
    {
      "cell_type": "code",
      "metadata": {
        "id": "AxI8WLQNZr-6",
        "colab_type": "code",
        "colab": {}
      },
      "source": [
        "trainX = numpy.reshape(trainX,(trainX.shape[0],1,trainX.shape[1]))\n",
        "testX = numpy.reshape(testX,(testX.shape[0],1,testX.shape[1]))"
      ],
      "execution_count": 0,
      "outputs": []
    },
    {
      "cell_type": "code",
      "metadata": {
        "id": "IXzKaUq-Zr-9",
        "colab_type": "code",
        "colab": {
          "base_uri": "https://localhost:8080/",
          "height": 35
        },
        "outputId": "2d252c7d-bf91-4924-da67-31718a5f65b6"
      },
      "source": [
        "trainX.shape"
      ],
      "execution_count": 273,
      "outputs": [
        {
          "output_type": "execute_result",
          "data": {
            "text/plain": [
              "(94, 1, 1)"
            ]
          },
          "metadata": {
            "tags": []
          },
          "execution_count": 273
        }
      ]
    },
    {
      "cell_type": "code",
      "metadata": {
        "id": "YeTdPiyuZr_H",
        "colab_type": "code",
        "colab": {
          "base_uri": "https://localhost:8080/",
          "height": 395
        },
        "outputId": "58caf95a-0cd1-4c5e-83a8-fdd8d655404f"
      },
      "source": [
        "# let's create  a RNN or LSTM model\n",
        "model = Sequential()\n",
        "model.add(LSTM(4,input_shape=(1,look_back)))\n",
        "model.add(Dense(1))\n",
        "model.compile(loss='mean_squared_error',optimizer='adam')\n",
        "\n",
        "# fit the model\n",
        "model.fit(trainX,trainY,batch_size=1,verbose=2, epochs=10)"
      ],
      "execution_count": 274,
      "outputs": [
        {
          "output_type": "stream",
          "text": [
            "Epoch 1/10\n",
            " - 3s - loss: 0.0330\n",
            "Epoch 2/10\n",
            " - 0s - loss: 0.0153\n",
            "Epoch 3/10\n",
            " - 0s - loss: 0.0119\n",
            "Epoch 4/10\n",
            " - 0s - loss: 0.0110\n",
            "Epoch 5/10\n",
            " - 0s - loss: 0.0102\n",
            "Epoch 6/10\n",
            " - 0s - loss: 0.0093\n",
            "Epoch 7/10\n",
            " - 0s - loss: 0.0086\n",
            "Epoch 8/10\n",
            " - 0s - loss: 0.0076\n",
            "Epoch 9/10\n",
            " - 0s - loss: 0.0069\n",
            "Epoch 10/10\n",
            " - 0s - loss: 0.0060\n"
          ],
          "name": "stdout"
        },
        {
          "output_type": "execute_result",
          "data": {
            "text/plain": [
              "<keras.callbacks.History at 0x7ff0235e96a0>"
            ]
          },
          "metadata": {
            "tags": []
          },
          "execution_count": 274
        }
      ]
    },
    {
      "cell_type": "code",
      "metadata": {
        "id": "OrGPK597Zr_L",
        "colab_type": "code",
        "colab": {}
      },
      "source": [
        "# make predictions\n",
        "trainPredict = model.predict(trainX)\n",
        "testPredict = model.predict(testX)"
      ],
      "execution_count": 0,
      "outputs": []
    },
    {
      "cell_type": "code",
      "metadata": {
        "id": "66gWcXPrZr_Z",
        "colab_type": "code",
        "colab": {
          "base_uri": "https://localhost:8080/",
          "height": 1000
        },
        "outputId": "27c6a1c9-99a5-4d34-c94f-f53b24b8f3c9"
      },
      "source": [
        "print(trainPredict)"
      ],
      "execution_count": 276,
      "outputs": [
        {
          "output_type": "stream",
          "text": [
            "[[0.12165606]\n",
            " [0.1272844 ]\n",
            " [0.14050812]\n",
            " [0.1376642 ]\n",
            " [0.13010757]\n",
            " [0.1433574 ]\n",
            " [0.15576309]\n",
            " [0.15576309]\n",
            " [0.14430834]\n",
            " [0.1282248 ]\n",
            " [0.11419046]\n",
            " [0.1272844 ]\n",
            " [0.12446719]\n",
            " [0.13482577]\n",
            " [0.14907154]\n",
            " [0.1433574 ]\n",
            " [0.13388085]\n",
            " [0.15672113]\n",
            " [0.17695138]\n",
            " [0.17695138]\n",
            " [0.16536608]\n",
            " [0.1414573 ]\n",
            " [0.12352946]\n",
            " [0.14811778]\n",
            " [0.15289207]\n",
            " [0.15767968]\n",
            " [0.18470842]\n",
            " [0.17018554]\n",
            " [0.17888825]\n",
            " [0.18470842]\n",
            " [0.2051784 ]\n",
            " [0.2051784 ]\n",
            " [0.19054207]\n",
            " [0.16922075]\n",
            " [0.15384856]\n",
            " [0.17308259]\n",
            " [0.1779196 ]\n",
            " [0.18665153]\n",
            " [0.19931558]\n",
            " [0.18762362]\n",
            " [0.18956889]\n",
            " [0.22380464]\n",
            " [0.2356053 ]\n",
            " [0.2474251 ]\n",
            " [0.21497135]\n",
            " [0.19736364]\n",
            " [0.17888825]\n",
            " [0.20029196]\n",
            " [0.20224568]\n",
            " [0.20224568]\n",
            " [0.2415133 ]\n",
            " [0.24052832]\n",
            " [0.2346211 ]\n",
            " [0.2484107 ]\n",
            " [0.26911914]\n",
            " [0.27700853]\n",
            " [0.24249837]\n",
            " [0.21693282]\n",
            " [0.18665153]\n",
            " [0.20713495]\n",
            " [0.21007173]\n",
            " [0.19443816]\n",
            " [0.24052832]\n",
            " [0.23265304]\n",
            " [0.23954353]\n",
            " [0.26911914]\n",
            " [0.30655015]\n",
            " [0.29769847]\n",
            " [0.2641877 ]\n",
            " [0.2346211 ]\n",
            " [0.20909254]\n",
            " [0.2346211 ]\n",
            " [0.2474251 ]\n",
            " [0.23855877]\n",
            " [0.2720779 ]\n",
            " [0.27405024]\n",
            " [0.2750364 ]\n",
            " [0.31931183]\n",
            " [0.36703217]\n",
            " [0.35055792]\n",
            " [0.3163697 ]\n",
            " [0.2789805 ]\n",
            " [0.24249837]\n",
            " [0.28292367]\n",
            " [0.2888363 ]\n",
            " [0.28193796]\n",
            " [0.3212722 ]\n",
            " [0.31735063]\n",
            " [0.32225204]\n",
            " [0.3766743 ]\n",
            " [0.41387695]\n",
            " [0.40630203]\n",
            " [0.35832286]\n",
            " [0.31048015]]\n"
          ],
          "name": "stdout"
        }
      ]
    },
    {
      "cell_type": "code",
      "metadata": {
        "id": "Bj4-n3EhZr_f",
        "colab_type": "code",
        "colab": {
          "base_uri": "https://localhost:8080/",
          "height": 845
        },
        "outputId": "8089ff2e-8a8c-4299-d19e-3559f4639af6"
      },
      "source": [
        "print(testPredict)"
      ],
      "execution_count": 277,
      "outputs": [
        {
          "output_type": "stream",
          "text": [
            "[[0.31931183]\n",
            " [0.30556726]\n",
            " [0.3592919 ]\n",
            " [0.35152966]\n",
            " [0.35832286]\n",
            " [0.4223612 ]\n",
            " [0.46230304]\n",
            " [0.4641354 ]\n",
            " [0.40535295]\n",
            " [0.35055792]\n",
            " [0.30949792]\n",
            " [0.33984834]\n",
            " [0.3437469 ]\n",
            " [0.32225204]\n",
            " [0.36509925]\n",
            " [0.35152966]\n",
            " [0.36606592]\n",
            " [0.43454295]\n",
            " [0.48593718]\n",
            " [0.4984908 ]\n",
            " [0.40535295]\n",
            " [0.36219722]\n",
            " [0.31440732]\n",
            " [0.3408234 ]\n",
            " [0.3631649 ]\n",
            " [0.34569442]\n",
            " [0.40725058]\n",
            " [0.397744  ]\n",
            " [0.42047936]\n",
            " [0.468706  ]\n",
            " [0.53625745]\n",
            " [0.54572135]\n",
            " [0.4604683 ]\n",
            " [0.40819865]\n",
            " [0.36509925]\n",
            " [0.40630203]\n",
            " [0.4176528 ]\n",
            " [0.39297372]\n",
            " [0.4195376 ]\n",
            " [0.45863122]\n",
            " [0.468706  ]\n",
            " [0.524968  ]\n",
            " [0.59832793]\n",
            " [0.58522725]\n",
            " [0.5011647 ]\n",
            " [0.45863122]]\n"
          ],
          "name": "stdout"
        }
      ]
    },
    {
      "cell_type": "code",
      "metadata": {
        "id": "pSR2jRskZr_p",
        "colab_type": "code",
        "colab": {}
      },
      "source": [
        "# reverse the predicted values to thee actual time series values using inverse tranform function\n",
        "trainPredict = scaler.inverse_transform(trainPredict) \n",
        "testPredict = scaler.inverse_transform(testPredict)\n",
        "\n",
        "trainY = scaler.inverse_transform([trainY]) #expects the 2D array, thus added []\n",
        "testY = scaler.inverse_transform([testY])"
      ],
      "execution_count": 0,
      "outputs": []
    },
    {
      "cell_type": "code",
      "metadata": {
        "id": "m6uMrHGyZr_u",
        "colab_type": "code",
        "colab": {
          "base_uri": "https://localhost:8080/",
          "height": 593
        },
        "outputId": "720e0777-b528-4f15-bcf7-7041774a4920"
      },
      "source": [
        "print(trainPredict[:, 0], trainY[0])"
      ],
      "execution_count": 279,
      "outputs": [
        {
          "output_type": "stream",
          "text": [
            "[167.01784 169.9333  176.7832  175.31006 171.3957  178.25912 184.68529\n",
            " 184.68529 178.75172 170.42046 163.15067 169.9333  168.47401 173.83975\n",
            " 181.21906 178.25912 173.35028 185.18155 195.66081 195.66081 189.65964\n",
            " 177.27487 167.98827 180.725   183.1981  185.67807 199.67896 192.15611\n",
            " 196.66411 199.67896 210.28242 210.28242 202.70079 191.65634 183.69356\n",
            " 193.65678 196.16235 200.68549 207.24547 201.18904 202.1967  219.9308\n",
            " 226.04355 232.16621 215.35515 206.23438 196.66411 207.75124 208.76326\n",
            " 208.76326 229.10388 228.59367 225.53372 232.67674 243.40372 247.49042\n",
            " 229.61415 216.3712  200.68549 211.2959  212.81715 204.71896 228.59367\n",
            " 224.51428 228.08354 243.40372 262.79297 258.2078  240.84923 225.53372\n",
            " 212.30994 225.53372 232.16621 227.57344 244.93636 245.95802 246.46886\n",
            " 269.40353 294.12265 285.589   267.87952 248.5119  229.61415 250.55446\n",
            " 253.6172  250.04387 270.419   268.3876  270.92654 299.11728 318.38828\n",
            " 314.46448 289.61124 264.8287 ] [117.99999916 131.99999879 129.00000163 120.99999632 135.00000368\n",
            " 147.99999397 147.99999397 136.00000531 119.00000078 103.99999952\n",
            " 117.99999916 115.00000199 125.99999674 140.99999801 135.00000368\n",
            " 125.00000283 148.9999956  169.99999891 169.99999891 157.99999481\n",
            " 133.00000042 114.00000036 139.99999638 145.00000452 149.99999723\n",
            " 177.9999965  163.00000295 172.00000217 177.9999965  198.99999982\n",
            " 198.99999982 184.00000627 162.00000133 146.00000615 165.9999924\n",
            " 171.00000054 179.99999976 193.00000549 181.00000139 183.00000464\n",
            " 217.99999988 230.00000398 241.99999264 209.00000066 191.00000223\n",
            " 172.00000217 194.00000712 195.99999493 195.99999493 235.99999831\n",
            " 234.99999668 229.00000235 242.99999427 263.99999759 272.00001061\n",
            " 236.99999994 211.00000392 179.99999976 201.00000308 203.99999252\n",
            " 187.99999735 234.99999668 226.9999991  233.99999506 263.99999759\n",
            " 301.99999771 292.99999849 259.00000488 229.00000235 203.00000633\n",
            " 229.00000235 241.99999264 232.99999343 266.99998703 268.99999029\n",
            " 270.00000736 315.00000344 363.99999059 346.99999379 312.00001399\n",
            " 274.00001387 236.99999994 277.99998951 283.99999928 277.00000332\n",
            " 317.00000669 313.00000018 317.99999288 373.999976   412.99999319\n",
            " 404.99998016 355.00000681 306.00000422 270.99999355]\n"
          ],
          "name": "stdout"
        }
      ]
    },
    {
      "cell_type": "code",
      "metadata": {
        "id": "f0e0hA5EZr_4",
        "colab_type": "code",
        "colab": {
          "base_uri": "https://localhost:8080/",
          "height": 1000
        },
        "outputId": "4ee10e41-a63a-4b33-ae82-533325ef1f1d"
      },
      "source": [
        "print(testPredict, testY)"
      ],
      "execution_count": 280,
      "outputs": [
        {
          "output_type": "stream",
          "text": [
            "[[269.40353]\n",
            " [262.28384]\n",
            " [290.1132 ]\n",
            " [286.09238]\n",
            " [289.61124]\n",
            " [322.7831 ]\n",
            " [343.47296]\n",
            " [344.42212]\n",
            " [313.9728 ]\n",
            " [285.589  ]\n",
            " [264.31992]\n",
            " [280.04147]\n",
            " [282.06088]\n",
            " [270.92654]\n",
            " [293.12143]\n",
            " [286.09238]\n",
            " [293.62216]\n",
            " [329.09326]\n",
            " [355.71548]\n",
            " [362.21823]\n",
            " [313.9728 ]\n",
            " [291.61816]\n",
            " [266.863  ]\n",
            " [280.5465 ]\n",
            " [292.11942]\n",
            " [283.0697 ]\n",
            " [314.9558 ]\n",
            " [310.0314 ]\n",
            " [321.80832]\n",
            " [346.7897 ]\n",
            " [381.78137]\n",
            " [386.6837 ]\n",
            " [342.52255]\n",
            " [315.44693]\n",
            " [293.12143]\n",
            " [314.46448]\n",
            " [320.34418]\n",
            " [307.5604 ]\n",
            " [321.3205 ]\n",
            " [341.57098]\n",
            " [346.7897 ]\n",
            " [375.93344]\n",
            " [413.9339 ]\n",
            " [407.1477 ]\n",
            " [363.6033 ]\n",
            " [341.57098]] [[301.00001152 355.999993   348.00001085 355.00000681 421.9999924\n",
            "  465.0000161  466.99998848 403.99999397 346.99999379 304.99998716\n",
            "  335.99999132 339.99999783 317.99999288 362.00000277 348.00001085\n",
            "  362.99998896 434.99999813 491.00002756 505.00001948 403.99999397\n",
            "  359.00001333 310.00001073 337.00000838 359.99999952 342.00000109\n",
            "  406.0000281  395.99998094 420.00002002 471.99998119 548.00004318\n",
            "  559.00001477 462.99998197 407.00001429 362.00000277 404.99998016\n",
            "  416.9999997  390.99998824 418.99997208 461.00000959 471.99998119\n",
            "  535.00003745 622.00000929 606.00004499 507.99997805 461.00000959\n",
            "  390.00000205]]\n"
          ],
          "name": "stdout"
        }
      ]
    },
    {
      "cell_type": "code",
      "metadata": {
        "id": "Du25AIb4Zr_8",
        "colab_type": "code",
        "colab": {
          "base_uri": "https://localhost:8080/",
          "height": 35
        },
        "outputId": "77db3b36-0cfd-4fb6-f852-c14e745c7f1a"
      },
      "source": [
        "# calculate the RMSE root mean square error\n",
        "trainScore = math.sqrt(mean_squared_error(trainY[0],trainPredict[:,0]))\n",
        "print ('Train Score: %.2f RMSE' % (trainScore))"
      ],
      "execution_count": 281,
      "outputs": [
        {
          "output_type": "stream",
          "text": [
            "Train Score: 38.63 RMSE\n"
          ],
          "name": "stdout"
        }
      ]
    },
    {
      "cell_type": "code",
      "metadata": {
        "id": "OGwASmmcZsAA",
        "colab_type": "code",
        "colab": {
          "base_uri": "https://localhost:8080/",
          "height": 35
        },
        "outputId": "0a64a346-2d92-4200-cc08-f6631a607091"
      },
      "source": [
        "testScore = math.sqrt(mean_squared_error(testY[0],testPredict[:,0]))\n",
        "print ('Test Score: %.2f RMSE' % (testScore))"
      ],
      "execution_count": 282,
      "outputs": [
        {
          "output_type": "stream",
          "text": [
            "Test Score: 110.50 RMSE\n"
          ],
          "name": "stdout"
        }
      ]
    },
    {
      "cell_type": "code",
      "metadata": {
        "id": "6ARWWJawZsAK",
        "colab_type": "code",
        "colab": {
          "base_uri": "https://localhost:8080/",
          "height": 337
        },
        "outputId": "08cda00c-e5b8-432b-95a8-6fc69a0febb1"
      },
      "source": [
        "# LSTM for international airline passengers problem with window regression framing\n",
        "import numpy\n",
        "import matplotlib.pyplot as plt\n",
        "from pandas import read_csv\n",
        "import math\n",
        "from keras.models import Sequential\n",
        "from keras.layers import Dense\n",
        "from keras.layers import LSTM\n",
        "from sklearn.preprocessing import MinMaxScaler\n",
        "from sklearn.metrics import mean_squared_error\n",
        "# convert an array of values into a dataset matrix\n",
        "def create_dataset(dataset, look_back=1):\n",
        "\tdataX, dataY = [], []\n",
        "\tfor i in range(len(dataset)-look_back-1):\n",
        "\t\ta = dataset[i:(i+look_back), 0]\n",
        "\t\tdataX.append(a)\n",
        "\t\tdataY.append(dataset[i + look_back, 0])\n",
        "\treturn numpy.array(dataX), numpy.array(dataY)\n",
        "# fix random seed for reproducibility\n",
        "numpy.random.seed(7)\n",
        "# load the dataset\n",
        "dataframe = read_csv('/content/international-airline-passengers.csv', usecols=[1], engine='python', skipfooter=3)\n",
        "dataset = dataframe.values\n",
        "dataset = dataset.astype('float32')\n",
        "# normalize the dataset\n",
        "scaler = MinMaxScaler(feature_range=(0, 1))\n",
        "dataset = scaler.fit_transform(dataset)\n",
        "# split into train and test sets\n",
        "train_size = int(len(dataset) * 0.67)\n",
        "test_size = len(dataset) - train_size\n",
        "train, test = dataset[0:train_size,:], dataset[train_size:len(dataset),:]\n",
        "# reshape into X=t and Y=t+1\n",
        "look_back = 3\n",
        "trainX, trainY = create_dataset(train, look_back)\n",
        "testX, testY = create_dataset(test, look_back)\n",
        "# reshape input to be [samples, time steps, features]\n",
        "trainX = numpy.reshape(trainX, (trainX.shape[0], 1, trainX.shape[1]))\n",
        "testX = numpy.reshape(testX, (testX.shape[0], 1, testX.shape[1]))\n",
        "# create and fit the LSTM network\n",
        "model = Sequential()\n",
        "model.add(LSTM(4, input_shape=(1, look_back)))\n",
        "model.add(Dense(1))\n",
        "model.compile(loss='mean_squared_error', optimizer='adam')\n",
        "model.fit(trainX, trainY, batch_size=1, verbose=2)\n",
        "# make predictions\n",
        "trainPredict = model.predict(trainX)\n",
        "testPredict = model.predict(testX)\n",
        "# invert predictions\n",
        "trainPredict = scaler.inverse_transform(trainPredict)\n",
        "trainY = scaler.inverse_transform([trainY])\n",
        "testPredict = scaler.inverse_transform(testPredict)\n",
        "testY = scaler.inverse_transform([testY])\n",
        "# calculate root mean squared error\n",
        "trainScore = math.sqrt(mean_squared_error(trainY[0], trainPredict[:,0]))\n",
        "print('Train Score: %.2f RMSE' % (trainScore))\n",
        "testScore = math.sqrt(mean_squared_error(testY[0], testPredict[:,0]))\n",
        "print('Test Score: %.2f RMSE' % (testScore))\n",
        "# shift train predictions for plotting\n",
        "trainPredictPlot = numpy.empty_like(dataset)\n",
        "trainPredictPlot[:, :] = numpy.nan\n",
        "trainPredictPlot[look_back:len(trainPredict)+look_back, :] = trainPredict\n",
        "# shift test predictions for plotting\n",
        "testPredictPlot = numpy.empty_like(dataset)\n",
        "testPredictPlot[:, :] = numpy.nan\n",
        "testPredictPlot[len(trainPredict)+(look_back*2)+1:len(dataset)-1, :] = testPredict\n",
        "# plot baseline and predictions\n",
        "plt.plot(scaler.inverse_transform(dataset))\n",
        "plt.plot(trainPredictPlot)\n",
        "plt.plot(testPredictPlot)\n",
        "plt.show()"
      ],
      "execution_count": 283,
      "outputs": [
        {
          "output_type": "stream",
          "text": [
            "Epoch 1/1\n",
            " - 3s - loss: 0.0542\n",
            "Train Score: 96.63 RMSE\n",
            "Test Score: 283.57 RMSE\n"
          ],
          "name": "stdout"
        },
        {
          "output_type": "display_data",
          "data": {
            "image/png": "[encoded data removed]",
            "text/plain": [
              "<Figure size 432x288 with 1 Axes>"
            ]
          },
          "metadata": {
            "tags": []
          }
        }
      ]
    },
    {
      "cell_type": "code",
      "metadata": {
        "id": "oY986hMqZsAO",
        "colab_type": "code",
        "colab": {}
      },
      "source": [
        ""
      ],
      "execution_count": 0,
      "outputs": []
    }
  ]
}